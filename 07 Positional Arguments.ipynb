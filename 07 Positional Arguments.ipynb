{
 "cells": [
  {
   "cell_type": "markdown",
   "id": "d07d9ee8",
   "metadata": {},
   "source": [
    "# Positional Arguments"
   ]
  },
  {
   "cell_type": "markdown",
   "id": "e5573662",
   "metadata": {},
   "source": [
    "- Positional arguments are passed based on their position in the function call. \n",
    "- The order matters, and the function definition expects arguments in a specific sequence."
   ]
  },
  {
   "cell_type": "code",
   "execution_count": 1,
   "id": "ee9f14e7",
   "metadata": {},
   "outputs": [
    {
     "name": "stdout",
     "output_type": "stream",
     "text": [
      "Hello! Nisarg, you are 20 years old\n"
     ]
    }
   ],
   "source": [
    "def hello(name, age):\n",
    "    print(f\"Hello! {name}, you are {age} years old\")\n",
    "\n",
    "hello(\"Nisarg\", 20)"
   ]
  },
  {
   "cell_type": "code",
   "execution_count": 2,
   "id": "8f8a7e01",
   "metadata": {},
   "outputs": [
    {
     "data": {
      "text/plain": [
       "8"
      ]
     },
     "execution_count": 2,
     "metadata": {},
     "output_type": "execute_result"
    }
   ],
   "source": [
    "def add_numbers(a, b):\n",
    "    return a + b\n",
    "\n",
    "add_numbers(3, 5)"
   ]
  },
  {
   "cell_type": "code",
   "execution_count": null,
   "id": "87d5ad79",
   "metadata": {},
   "outputs": [],
   "source": []
  }
 ],
 "metadata": {
  "kernelspec": {
   "display_name": "Python 3 (ipykernel)",
   "language": "python",
   "name": "python3"
  },
  "language_info": {
   "codemirror_mode": {
    "name": "ipython",
    "version": 3
   },
   "file_extension": ".py",
   "mimetype": "text/x-python",
   "name": "python",
   "nbconvert_exporter": "python",
   "pygments_lexer": "ipython3",
   "version": "3.10.9"
  }
 },
 "nbformat": 4,
 "nbformat_minor": 5
}
