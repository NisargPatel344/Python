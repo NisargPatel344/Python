{
 "cells": [
  {
   "cell_type": "markdown",
   "id": "b98bc04f",
   "metadata": {},
   "source": [
    "# Static Methods"
   ]
  },
  {
   "cell_type": "markdown",
   "id": "caf3659c",
   "metadata": {},
   "source": [
    "- Static methods are defined using the @staticmethod decorator. \n",
    "- They do not require access to instance or class-level attributes and behave like regular functions within the class namespace."
   ]
  },
  {
   "cell_type": "code",
   "execution_count": 1,
   "id": "58f9a6d2",
   "metadata": {},
   "outputs": [
    {
     "name": "stdout",
     "output_type": "stream",
     "text": [
      "8\n",
      "8\n"
     ]
    }
   ],
   "source": [
    "class MathUtils:\n",
    "    @staticmethod\n",
    "    def add(a, b):\n",
    "        return a + b\n",
    "\n",
    "    @staticmethod\n",
    "    def multiply(a, b):\n",
    "        return a * b\n",
    "\n",
    "# Using static methods without creating an instance of the class\n",
    "sum_result = MathUtils.add(3, 5)\n",
    "print(sum_result)  # Output: 8\n",
    "\n",
    "product_result = MathUtils.multiply(2, 4)\n",
    "print(product_result)  # Output: 8"
   ]
  },
  {
   "cell_type": "code",
   "execution_count": null,
   "id": "6605f2c9",
   "metadata": {},
   "outputs": [],
   "source": []
  }
 ],
 "metadata": {
  "kernelspec": {
   "display_name": "Python 3 (ipykernel)",
   "language": "python",
   "name": "python3"
  },
  "language_info": {
   "codemirror_mode": {
    "name": "ipython",
    "version": 3
   },
   "file_extension": ".py",
   "mimetype": "text/x-python",
   "name": "python",
   "nbconvert_exporter": "python",
   "pygments_lexer": "ipython3",
   "version": "3.10.9"
  }
 },
 "nbformat": 4,
 "nbformat_minor": 5
}
