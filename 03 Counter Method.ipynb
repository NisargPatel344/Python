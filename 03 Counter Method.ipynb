{
 "cells": [
  {
   "cell_type": "code",
   "execution_count": 1,
   "id": "8a3fb887",
   "metadata": {},
   "outputs": [
    {
     "name": "stdout",
     "output_type": "stream",
     "text": [
      "The number of Students 4\n"
     ]
    }
   ],
   "source": [
    "class Student:\n",
    "    counter = 0\n",
    "    \n",
    "    def __init__(self):\n",
    "        Student.counter = Student.counter + 1 # Increment\n",
    "    \n",
    "s1 = Student()\n",
    "s2 = Student()\n",
    "s3 = Student()\n",
    "s4 = Student()\n",
    "\n",
    "print(\"The number of Students\", Student.counter)"
   ]
  },
  {
   "cell_type": "code",
   "execution_count": null,
   "id": "de9e09a7",
   "metadata": {},
   "outputs": [],
   "source": []
  }
 ],
 "metadata": {
  "kernelspec": {
   "display_name": "Python 3 (ipykernel)",
   "language": "python",
   "name": "python3"
  },
  "language_info": {
   "codemirror_mode": {
    "name": "ipython",
    "version": 3
   },
   "file_extension": ".py",
   "mimetype": "text/x-python",
   "name": "python",
   "nbconvert_exporter": "python",
   "pygments_lexer": "ipython3",
   "version": "3.10.9"
  }
 },
 "nbformat": 4,
 "nbformat_minor": 5
}
