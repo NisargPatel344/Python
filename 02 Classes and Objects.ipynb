{
 "cells": [
  {
   "cell_type": "code",
   "execution_count": 1,
   "id": "973b684f",
   "metadata": {},
   "outputs": [
    {
     "name": "stdout",
     "output_type": "stream",
     "text": [
      "ID is 101 and Name is Maruti\n"
     ]
    }
   ],
   "source": [
    "class Cars:\n",
    "    id = 101\n",
    "    name = \"Maruti\"\n",
    "    \n",
    "    def display(self):\n",
    "        print(f\"ID is {self.id} and Name is {self.name}\")\n",
    "    \n",
    "car = Cars()\n",
    "car.display()"
   ]
  },
  {
   "cell_type": "code",
   "execution_count": 2,
   "id": "85acee10",
   "metadata": {},
   "outputs": [
    {
     "name": "stdout",
     "output_type": "stream",
     "text": [
      "Area of Rectangle = 50\n"
     ]
    }
   ],
   "source": [
    "class Rectangle:\n",
    "    lenght = 10\n",
    "    breadth = 5\n",
    "    \n",
    "    def calculate_area(self):\n",
    "        print(f\"Area of Rectangle = {self.lenght * self.breadth}\")\n",
    "        \n",
    "rectangle_area = Rectangle()\n",
    "rectangle_area.calculate_area()"
   ]
  },
  {
   "cell_type": "code",
   "execution_count": null,
   "id": "f115e789",
   "metadata": {},
   "outputs": [],
   "source": []
  }
 ],
 "metadata": {
  "kernelspec": {
   "display_name": "Python 3 (ipykernel)",
   "language": "python",
   "name": "python3"
  },
  "language_info": {
   "codemirror_mode": {
    "name": "ipython",
    "version": 3
   },
   "file_extension": ".py",
   "mimetype": "text/x-python",
   "name": "python",
   "nbconvert_exporter": "python",
   "pygments_lexer": "ipython3",
   "version": "3.10.9"
  }
 },
 "nbformat": 4,
 "nbformat_minor": 5
}
