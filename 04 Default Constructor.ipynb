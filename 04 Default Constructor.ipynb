{
 "cells": [
  {
   "cell_type": "markdown",
   "id": "fcfec506",
   "metadata": {},
   "source": [
    "# Default Constructor"
   ]
  },
  {
   "cell_type": "code",
   "execution_count": 1,
   "id": "58b45572",
   "metadata": {},
   "outputs": [
    {
     "name": "stdout",
     "output_type": "stream",
     "text": [
      "My name is Joseph and my roll number is 18\n"
     ]
    }
   ],
   "source": [
    "class Student:\n",
    "    \n",
    "    def __init__(self):\n",
    "        self.name = \"Joseph\"\n",
    "        self.roll_num = 18\n",
    "    \n",
    "    def display(self):\n",
    "        print(f\"My name is {self.name} and my roll number is {self.roll_num}\")\n",
    "\n",
    "st = Student()\n",
    "st.display()"
   ]
  },
  {
   "cell_type": "code",
   "execution_count": 2,
   "id": "4c9635f7",
   "metadata": {},
   "outputs": [
    {
     "name": "stdout",
     "output_type": "stream",
     "text": [
      "Rectangle width is 5, height is 3 and the area is 15\n"
     ]
    }
   ],
   "source": [
    "class Rectangle:\n",
    "    \n",
    "    def __init__(self):\n",
    "        self.width = 5\n",
    "        self.height = 3\n",
    "    \n",
    "    def calculate_area(self):\n",
    "        return self.width * self.height\n",
    "    \n",
    "    def display(self):\n",
    "        print(f\"Rectangle width is {self.width}, height is {self.height} and the area is {self.calculate_area()}\")\n",
    "        \n",
    "rectangle = Rectangle()\n",
    "rectangle.display()"
   ]
  },
  {
   "cell_type": "code",
   "execution_count": null,
   "id": "8843589d",
   "metadata": {},
   "outputs": [],
   "source": []
  }
 ],
 "metadata": {
  "kernelspec": {
   "display_name": "Python 3 (ipykernel)",
   "language": "python",
   "name": "python3"
  },
  "language_info": {
   "codemirror_mode": {
    "name": "ipython",
    "version": 3
   },
   "file_extension": ".py",
   "mimetype": "text/x-python",
   "name": "python",
   "nbconvert_exporter": "python",
   "pygments_lexer": "ipython3",
   "version": "3.10.9"
  }
 },
 "nbformat": 4,
 "nbformat_minor": 5
}
