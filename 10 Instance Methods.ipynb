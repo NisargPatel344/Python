{
 "cells": [
  {
   "cell_type": "markdown",
   "id": "bbb74422",
   "metadata": {},
   "source": [
    "# Instance Methods"
   ]
  },
  {
   "cell_type": "markdown",
   "id": "6b60e088",
   "metadata": {},
   "source": [
    "- Instance methods are the most common type of methods in Python classes.\n",
    "- They take 'self' as the first parameter and operate on the instance variable specific to each object of the class."
   ]
  },
  {
   "cell_type": "code",
   "execution_count": 2,
   "id": "100aa07c",
   "metadata": {},
   "outputs": [
    {
     "name": "stdout",
     "output_type": "stream",
     "text": [
      "Woof! My name is Buddy and I am 3 years old.\n",
      "Woof! My name is Max and I am 5 years old.\n"
     ]
    }
   ],
   "source": [
    "class Dog:\n",
    "    def __init__(self, name, age):\n",
    "        self.name = name\n",
    "        self.age = age\n",
    "\n",
    "    def bark(self):\n",
    "        print (f\"Woof! My name is {self.name} and I am {self.age} years old.\")\n",
    "\n",
    "# Creating instances of Dog class\n",
    "dog1 = Dog(\"Buddy\", 3)\n",
    "dog2 = Dog(\"Max\", 5)\n",
    "\n",
    "dog1.bark()\n",
    "dog2.bark()"
   ]
  },
  {
   "cell_type": "markdown",
   "id": "8c69de5a",
   "metadata": {},
   "source": [
    "### Accessor Methods\n",
    "- Accessor methods, also known as getter methods, allow you to access the values of instance variables from outside the class."
   ]
  },
  {
   "cell_type": "code",
   "execution_count": 15,
   "id": "01b19a29",
   "metadata": {},
   "outputs": [
    {
     "name": "stdout",
     "output_type": "stream",
     "text": [
      "Buddy\n",
      "3\n",
      "Max\n",
      "5\n"
     ]
    }
   ],
   "source": [
    "class Dog:\n",
    "    def __init__(self, name, age):\n",
    "        self.name = name\n",
    "        self.age = age\n",
    "\n",
    "    def bark(self):\n",
    "        print (f\"Woof! My name is {self.name} and I am {self.age} years old.\")\n",
    "\n",
    "    # Accessor methods (getters)\n",
    "    def get_name(self):\n",
    "        return self.name\n",
    "\n",
    "    def get_age(self):\n",
    "        return self.age\n",
    "\n",
    "# Creating instances of Dog class\n",
    "dog1 = Dog(\"Buddy\", 3)\n",
    "dog2 = Dog(\"Max\", 5)\n",
    "\n",
    "# Using the accessor methods\n",
    "print(dog1.get_name())\n",
    "print(dog1.get_age())\n",
    "\n",
    "print(dog2.get_name())\n",
    "print(dog2.get_age())"
   ]
  },
  {
   "cell_type": "markdown",
   "id": "8c435850",
   "metadata": {},
   "source": [
    "### Mutator Methods\n",
    "- Mutator methods, also known as setter methods, allow you to modify the values of instance variables from outside the class. "
   ]
  },
  {
   "cell_type": "code",
   "execution_count": 16,
   "id": "d30ad70c",
   "metadata": {},
   "outputs": [
    {
     "name": "stdout",
     "output_type": "stream",
     "text": [
      "Woof! My name is Rex and I am 6 years old.\n",
      "Woof! My name is Tom and I am 7 years old.\n"
     ]
    }
   ],
   "source": [
    "class Dog:\n",
    "    def __init__(self, name, age):\n",
    "        self.name = name\n",
    "        self.age = age\n",
    "\n",
    "    def bark(self):\n",
    "        return f\"Woof! My name is {self.name} and I am {self.age} years old.\"\n",
    "\n",
    "    # Mutator methods (setters)\n",
    "    def set_name(self, name):\n",
    "        self.name = name\n",
    "\n",
    "    def set_age(self, age):\n",
    "        self.age = age\n",
    "\n",
    "# Creating instances of Dog class\n",
    "dog1 = Dog(\"Buddy\", 3)\n",
    "dog2 = Dog(\"Max\", 5)\n",
    "\n",
    "# Using the mutator methods to change the attributes\n",
    "dog1.set_name(\"Rex\")\n",
    "dog1.set_age(6)\n",
    "\n",
    "dog2.set_name(\"Tom\")\n",
    "dog2.set_age(7)\n",
    "\n",
    "# After modification\n",
    "print(dog1.bark())  # Output: \"Woof! My name is Rex and I am 6 years old.\"\n",
    "print(dog2.bark())  # Output: \"Woof! My name is Tom and I am 7 years old.\""
   ]
  },
  {
   "cell_type": "code",
   "execution_count": null,
   "id": "43d286af",
   "metadata": {},
   "outputs": [],
   "source": []
  }
 ],
 "metadata": {
  "kernelspec": {
   "display_name": "Python 3 (ipykernel)",
   "language": "python",
   "name": "python3"
  },
  "language_info": {
   "codemirror_mode": {
    "name": "ipython",
    "version": 3
   },
   "file_extension": ".py",
   "mimetype": "text/x-python",
   "name": "python",
   "nbconvert_exporter": "python",
   "pygments_lexer": "ipython3",
   "version": "3.10.9"
  }
 },
 "nbformat": 4,
 "nbformat_minor": 5
}
