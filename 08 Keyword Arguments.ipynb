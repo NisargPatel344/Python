{
 "cells": [
  {
   "cell_type": "markdown",
   "id": "8b8a4a38",
   "metadata": {},
   "source": [
    "# Keyword Arguments"
   ]
  },
  {
   "cell_type": "markdown",
   "id": "7639890d",
   "metadata": {},
   "source": [
    "- Keyword arguments are passed using the argument name and value explicitly, allowing you to pass arguments in any order. \n",
    "- These are useful when you have functions with many parameters, and you want to make the function call more readable."
   ]
  },
  {
   "cell_type": "code",
   "execution_count": 1,
   "id": "a6c8d7fe",
   "metadata": {},
   "outputs": [
    {
     "name": "stdout",
     "output_type": "stream",
     "text": [
      "Hello! Nisarg, you are 20 years old\n"
     ]
    }
   ],
   "source": [
    "# Calling the function with one argument\n",
    "\n",
    "def hello(name, age=20):\n",
    "    print(f\"Hello! {name}, you are {age} years old\")\n",
    "\n",
    "hello(\"Nisarg\")"
   ]
  },
  {
   "cell_type": "code",
   "execution_count": 2,
   "id": "8fdd35a0",
   "metadata": {},
   "outputs": [
    {
     "data": {
      "text/plain": [
       "16"
      ]
     },
     "execution_count": 2,
     "metadata": {},
     "output_type": "execute_result"
    }
   ],
   "source": [
    "# Calling the function with two arguments and overriding the default parameter\n",
    "\n",
    "def add_numbers(a=3, b=5):\n",
    "    return a + b\n",
    "\n",
    "add_numbers(6, 10)"
   ]
  },
  {
   "cell_type": "code",
   "execution_count": null,
   "id": "5a8e838d",
   "metadata": {},
   "outputs": [],
   "source": []
  }
 ],
 "metadata": {
  "kernelspec": {
   "display_name": "Python 3 (ipykernel)",
   "language": "python",
   "name": "python3"
  },
  "language_info": {
   "codemirror_mode": {
    "name": "ipython",
    "version": 3
   },
   "file_extension": ".py",
   "mimetype": "text/x-python",
   "name": "python",
   "nbconvert_exporter": "python",
   "pygments_lexer": "ipython3",
   "version": "3.10.9"
  }
 },
 "nbformat": 4,
 "nbformat_minor": 5
}
