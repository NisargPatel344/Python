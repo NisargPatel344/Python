{
 "cells": [
  {
   "cell_type": "markdown",
   "id": "f3b77756",
   "metadata": {},
   "source": [
    "# Single Level Inheritance"
   ]
  },
  {
   "cell_type": "markdown",
   "id": "4e119a7a",
   "metadata": {},
   "source": [
    "- Single level inheritance in Python refers to the concept of a class inheriting properties and methods from only one parent class. \n",
    "- It allows a subclass to inherit the attributes and behaviors of a single base class, forming a hierarchical relationship."
   ]
  },
  {
   "cell_type": "code",
   "execution_count": 7,
   "id": "53b025b1",
   "metadata": {},
   "outputs": [
    {
     "name": "stdout",
     "output_type": "stream",
     "text": [
      "Toyota honks!\n",
      "Toyota is driving!\n"
     ]
    }
   ],
   "source": [
    "class Vehicle:\n",
    "    def __init__(self, brand):\n",
    "        self.brand = brand\n",
    "\n",
    "    def honk(self):\n",
    "        print(f\"{self.brand} honks!\")\n",
    "\n",
    "class Car(Vehicle):\n",
    "    def drive(self):\n",
    "        print(f\"{self.brand} is driving!\")\n",
    "\n",
    "# Usage\n",
    "car = Car(\"Toyota\")\n",
    "car.honk()  # Output: \"Toyota honks!\"\n",
    "car.drive() # Output: \"Toyota is driving!\""
   ]
  },
  {
   "cell_type": "code",
   "execution_count": 1,
   "id": "c436e8f9",
   "metadata": {},
   "outputs": [
    {
     "name": "stdout",
     "output_type": "stream",
     "text": [
      "Product is Paneer and product price is 100\n",
      "Panner(100grams) contais 18\n"
     ]
    }
   ],
   "source": [
    "class DairyProduct:\n",
    "    \n",
    "    def __init__(self,p_name,p_price):\n",
    "        self.name = p_name\n",
    "        self.price = p_price\n",
    "        \n",
    "    def product(self):\n",
    "        print(f\"Product is {self.name} and product price is {self.price}\")\n",
    "\n",
    "class Paneer(DairyProduct):\n",
    "    def details(self,protein):\n",
    "        print(f\"Panner(100grams) contais {protein}\")\n",
    "\n",
    "paneer = Paneer(\"Paneer\",100)\n",
    "paneer.product()\n",
    "paneer.details(18)"
   ]
  },
  {
   "cell_type": "code",
   "execution_count": 5,
   "id": "d1e6eaae",
   "metadata": {},
   "outputs": [
    {
     "name": "stdout",
     "output_type": "stream",
     "text": [
      "Operation performed with numbers 5 and 3\n",
      "The addition is: 8\n"
     ]
    }
   ],
   "source": [
    "class Arithmetic:\n",
    "\n",
    "    def __init__(self, num1, num2):\n",
    "        self.num1 = num1\n",
    "        self.num2 = num2\n",
    "\n",
    "    def operation(self):\n",
    "        print(f\"Operation performed with numbers {self.num1} and {self.num2}\")\n",
    "\n",
    "class Addition(Arithmetic):\n",
    "    def result(self):\n",
    "        print(f\"The addition is: {self.num1 + self.num2}\")\n",
    "\n",
    "addition = Addition(5, 3)\n",
    "addition.operation()\n",
    "addition.result()"
   ]
  },
  {
   "cell_type": "code",
   "execution_count": 6,
   "id": "4b534e35",
   "metadata": {},
   "outputs": [
    {
     "name": "stdout",
     "output_type": "stream",
     "text": [
      "Concatenating strings: Hello and  World\n",
      "The concatenated string is: Hello World\n"
     ]
    }
   ],
   "source": [
    "class Concatenation:\n",
    "\n",
    "    def __init__(self, str1, str2):\n",
    "        self.str1 = str1\n",
    "        self.str2 = str2\n",
    "\n",
    "    def operation(self):\n",
    "        print(f\"Concatenating strings: {self.str1} and {self.str2}\")\n",
    "\n",
    "class StringConcatenation(Concatenation):\n",
    "    def result(self):\n",
    "        print(f\"The concatenated string is: {self.str1 + self.str2}\")\n",
    "\n",
    "string_concat = StringConcatenation(\"Hello\", \" World\")\n",
    "string_concat.operation()\n",
    "string_concat.result()"
   ]
  }
 ],
 "metadata": {
  "kernelspec": {
   "display_name": "Python 3 (ipykernel)",
   "language": "python",
   "name": "python3"
  },
  "language_info": {
   "codemirror_mode": {
    "name": "ipython",
    "version": 3
   },
   "file_extension": ".py",
   "mimetype": "text/x-python",
   "name": "python",
   "nbconvert_exporter": "python",
   "pygments_lexer": "ipython3",
   "version": "3.10.9"
  }
 },
 "nbformat": 4,
 "nbformat_minor": 5
}
