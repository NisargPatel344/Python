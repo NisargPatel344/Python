{
 "cells": [
  {
   "cell_type": "markdown",
   "id": "7b9d7f94",
   "metadata": {},
   "source": [
    "# Parameterized Constructors"
   ]
  },
  {
   "cell_type": "code",
   "execution_count": 1,
   "id": "4fe85d59",
   "metadata": {},
   "outputs": [
    {
     "name": "stdout",
     "output_type": "stream",
     "text": [
      "My name is Joseph and my roll number is 101\n"
     ]
    }
   ],
   "source": [
    "class Student:\n",
    "    \n",
    "    def __init__(self, name, roll_num):\n",
    "        self.name = name\n",
    "        self.roll_num = roll_num\n",
    "        \n",
    "    def display(self):\n",
    "        print(f\"My name is {self.name} and my roll number is {self.roll_num}\")\n",
    "        \n",
    "student = Student(\"Joseph\",101)\n",
    "student.display()"
   ]
  },
  {
   "cell_type": "code",
   "execution_count": 2,
   "id": "bacf4b2f",
   "metadata": {},
   "outputs": [
    {
     "name": "stdout",
     "output_type": "stream",
     "text": [
      "Employee ID is Nisarg Patel amf Employee Name is 38\n"
     ]
    }
   ],
   "source": [
    "class Employee:\n",
    "    \n",
    "    def __init__(self, emp_name, emp_id):\n",
    "        self.emp_id = emp_id\n",
    "        self.emp_name = emp_name\n",
    "        \n",
    "    def display(self):\n",
    "        print(f\"Employee ID is {self.emp_id} amf Employee Name is {self.emp_name}\")\n",
    "\n",
    "employee = Employee(38, \"Nisarg Patel\")\n",
    "employee.display()"
   ]
  },
  {
   "cell_type": "code",
   "execution_count": 3,
   "id": "6d5463b0",
   "metadata": {},
   "outputs": [
    {
     "name": "stdout",
     "output_type": "stream",
     "text": [
      "Rectangle width is 20, length is 10 and area is 200\n",
      "Rectangle width is 10, length is 5 and area is 50\n"
     ]
    }
   ],
   "source": [
    "class Rectangle:\n",
    "    \n",
    "    def __init__(self, lenght, width):\n",
    "        self.lenght = lenght\n",
    "        self.width = width\n",
    "        \n",
    "    def calculate_area(self):\n",
    "        return self.lenght*self.width\n",
    "    \n",
    "    def display(self):\n",
    "        print(f\"Rectangle width is {self.width}, length is {self.lenght} and area is {self.calculate_area()}\")\n",
    "        \n",
    "rectangle1 = Rectangle(10,20)\n",
    "rectangle1.display()\n",
    "\n",
    "rectangle2 = Rectangle(5,10)\n",
    "rectangle2.display()"
   ]
  },
  {
   "cell_type": "code",
   "execution_count": 4,
   "id": "4d16abc3",
   "metadata": {},
   "outputs": [
    {
     "name": "stdout",
     "output_type": "stream",
     "text": [
      "Car: Toyota Corolla 2023\n",
      "Mileage: 0 miles\n",
      "Car: Toyota Corolla 2023\n",
      "Mileage: 100 miles\n"
     ]
    }
   ],
   "source": [
    "class Car:\n",
    "\n",
    "    def __init__(self, Make, Model, Year):\n",
    "        self.make = Make\n",
    "        self.model = Model\n",
    "        self.year = Year\n",
    "        self.mileage = 0\n",
    "        \n",
    "    def drive(self, miles):\n",
    "        self.mileage += miles\n",
    "        \n",
    "    def display_info(self):\n",
    "        print(\"Car: {} {} {}\".format(self.make, self.model, self.year))\n",
    "        print(\"Mileage: {} miles\".format(self.mileage))\n",
    "\n",
    "my_car = Car(\"Toyota\", \"Corolla\", 2023)\n",
    "my_car.display_info()\n",
    "my_car.drive(100)\n",
    "my_car.display_info()"
   ]
  },
  {
   "cell_type": "code",
   "execution_count": null,
   "id": "4f44ae35",
   "metadata": {},
   "outputs": [],
   "source": []
  }
 ],
 "metadata": {
  "kernelspec": {
   "display_name": "Python 3 (ipykernel)",
   "language": "python",
   "name": "python3"
  },
  "language_info": {
   "codemirror_mode": {
    "name": "ipython",
    "version": 3
   },
   "file_extension": ".py",
   "mimetype": "text/x-python",
   "name": "python",
   "nbconvert_exporter": "python",
   "pygments_lexer": "ipython3",
   "version": "3.10.9"
  }
 },
 "nbformat": 4,
 "nbformat_minor": 5
}
