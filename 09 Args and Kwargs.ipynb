{
 "cells": [
  {
   "cell_type": "markdown",
   "id": "d33fbb05",
   "metadata": {},
   "source": [
    "# Args and Kwargs"
   ]
  },
  {
   "cell_type": "markdown",
   "id": "b7c26b79",
   "metadata": {},
   "source": [
    "- In Python, args and kwargs are special parameters that allow you to pass a variable number of arguments to a function. \n",
    "- They are often used when you're not sure how many arguments will be passed to a function or when you want to make a function more flexible."
   ]
  },
  {
   "cell_type": "code",
   "execution_count": 1,
   "id": "91f81caf",
   "metadata": {},
   "outputs": [
    {
     "name": "stdout",
     "output_type": "stream",
     "text": [
      "('Johnny', 'Jenny')\n",
      "{'age': 30, 'year': 2023}\n"
     ]
    }
   ],
   "source": [
    "def hello(*args,**kwargs):\n",
    "    print(args)\n",
    "    print(kwargs)\n",
    "hello(\"Johnny\",\"Jenny\",age=30,year=2023)"
   ]
  },
  {
   "cell_type": "code",
   "execution_count": 2,
   "id": "06beaab5",
   "metadata": {},
   "outputs": [
    {
     "name": "stdout",
     "output_type": "stream",
     "text": [
      "('Jhon', 'Jenny', 'Jinal')\n",
      "{'age': 30, 'DOB': 1985, 'year': 2023}\n"
     ]
    }
   ],
   "source": [
    "def hello(*args,**kwargs):\n",
    "    print(args)\n",
    "    print(kwargs)\n",
    "\n",
    "list = list((\"Jhon\",\"Jenny\",\"Jinal\"))\n",
    "dictionay = {'age':30, 'DOB':1985,'year':2023}\n",
    "\n",
    "hello(*list,**dictionay)"
   ]
  },
  {
   "cell_type": "code",
   "execution_count": 3,
   "id": "3f42ae62",
   "metadata": {},
   "outputs": [
    {
     "name": "stdout",
     "output_type": "stream",
     "text": [
      "The animal is ('dog', 'mammal') and says woof woof\n"
     ]
    }
   ],
   "source": [
    "class animal:\n",
    "    def __init__(self, *args):\n",
    "        if len(args) == 1:\n",
    "            self.name = args[0]\n",
    "        elif len(args) == 2:\n",
    "            self.name = args[0]\n",
    "            self.species = args[1]\n",
    "        elif len(args) == 3:\n",
    "            self.name = args[0]\n",
    "            self.species = args[1]\n",
    "            self.age = args[2]\n",
    "\n",
    "    def make_sound(self, sound):\n",
    "        return \"The animal is {} and says {}\".format(self.name, sound)\n",
    "\n",
    "dog = animal((\"dog\", \"mammal\"))\n",
    "print(dog.make_sound(\"woof woof\"))"
   ]
  },
  {
   "cell_type": "code",
   "execution_count": null,
   "id": "70a4659a",
   "metadata": {},
   "outputs": [],
   "source": []
  }
 ],
 "metadata": {
  "kernelspec": {
   "display_name": "Python 3 (ipykernel)",
   "language": "python",
   "name": "python3"
  },
  "language_info": {
   "codemirror_mode": {
    "name": "ipython",
    "version": 3
   },
   "file_extension": ".py",
   "mimetype": "text/x-python",
   "name": "python",
   "nbconvert_exporter": "python",
   "pygments_lexer": "ipython3",
   "version": "3.10.9"
  }
 },
 "nbformat": 4,
 "nbformat_minor": 5
}
