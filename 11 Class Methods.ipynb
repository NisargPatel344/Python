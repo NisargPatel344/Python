{
 "cells": [
  {
   "cell_type": "markdown",
   "id": "3bd1cbb3",
   "metadata": {},
   "source": [
    "# Class Methods"
   ]
  },
  {
   "cell_type": "markdown",
   "id": "226750ba",
   "metadata": {},
   "source": [
    "- Class methods are defined using the @classmethod decorator. \n",
    "- They take the class (cls) as the first parameter instead of the instance (self). \n",
    "- Class methods can access and modify class-level attributes."
   ]
  },
  {
   "cell_type": "code",
   "execution_count": 9,
   "id": "5411ba1d",
   "metadata": {},
   "outputs": [
    {
     "name": "stdout",
     "output_type": "stream",
     "text": [
      "3.1416\n",
      "78.54\n"
     ]
    }
   ],
   "source": [
    "class Circle:\n",
    "    pi = 3.1416\n",
    "\n",
    "    def __init__(self, radius):\n",
    "        self.radius = radius\n",
    "\n",
    "    @classmethod\n",
    "    def get_pi(cls): # Decorater\n",
    "        return cls.pi\n",
    "\n",
    "    def calculate_area(self):\n",
    "        return self.pi * self.radius * self.radius\n",
    "\n",
    "# Using the class method to get the value of pi\n",
    "print(Circle.get_pi())  # Output: 3.1416\n",
    "\n",
    "# Creating an instance of Circle class and calculating the area\n",
    "circle = Circle(5)\n",
    "print(circle.calculate_area())  # Output: 78.54"
   ]
  },
  {
   "cell_type": "code",
   "execution_count": 11,
   "id": "34ba8ac8",
   "metadata": {},
   "outputs": [
    {
     "name": "stdout",
     "output_type": "stream",
     "text": [
      "Employee Id is 202 and employee name is Jeny\n",
      "Employee Id is 101 and employee name is Jhon\n",
      "Jeny is working in TCS\n",
      "Jhon is working in TCS\n"
     ]
    }
   ],
   "source": [
    "# Mam's Code\n",
    "\n",
    "class Employee:\n",
    "    # Class-level variable to store the company name (shared among all instances of the class)\n",
    "    company = 'TCS'\n",
    "    \n",
    "    def __init__(self, name, Id):\n",
    "        self.name = name\n",
    "        self.Id = Id\n",
    "    \n",
    "    def details(self):\n",
    "        print(f\"Employee Id is {self.Id} and employee name is {self.name}\")\n",
    "    \n",
    "    # Class method (decorator used to define a method that operates on the class itself, not an instance)\n",
    "    @classmethod\n",
    "    def display(cls):\n",
    "        return cls.company\n",
    "\n",
    "emp1 = Employee(\"Jeny\", 202)\n",
    "emp2 = Employee(\"Jhon\", 101)\n",
    "\n",
    "emp1.details()\n",
    "emp2.details()\n",
    "\n",
    "# Display the name and company of each employee using the 'display' class method\n",
    "print(f\"{emp1.name} is working in {Employee.display()}\")\n",
    "print(f\"{emp2.name} is working in {Employee.display()}\")"
   ]
  }
 ],
 "metadata": {
  "kernelspec": {
   "display_name": "Python 3 (ipykernel)",
   "language": "python",
   "name": "python3"
  },
  "language_info": {
   "codemirror_mode": {
    "name": "ipython",
    "version": 3
   },
   "file_extension": ".py",
   "mimetype": "text/x-python",
   "name": "python",
   "nbconvert_exporter": "python",
   "pygments_lexer": "ipython3",
   "version": "3.10.9"
  }
 },
 "nbformat": 4,
 "nbformat_minor": 5
}
